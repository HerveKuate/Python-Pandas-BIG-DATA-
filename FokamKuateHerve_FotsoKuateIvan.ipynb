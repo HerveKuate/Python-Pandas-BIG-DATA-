{
 "cells": [
  {
   "cell_type": "markdown",
   "metadata": {},
   "source": [
    "# Conditions\n",
    "\n",
    "- The answers to be sent back to dmitry.lebedev@efrei.fr before 24:00 16/02/2018\n",
    "- Rename this file with your surname\n",
    "- subject line of the e-mail should be \"ST2DD27 TEST\""
   ]
  },
  {
   "cell_type": "markdown",
   "metadata": {},
   "source": [
    "# Class environment\n",
    "* Load Big Data virtual machine inside the VirtualBox\n",
    "* login : hduser, password : hduser\n",
    "* Launch Jupyter from shell as \"jupyter notebook\"\n",
    "* Type the python code with answers into the \"code\" cells and execute them with Ctrl-Enter\n",
    "* If a cell has star instead its number \"In [*]\" , then it is being executed\n",
    "\n",
    "... otherwise install Jupyter (Anaconda Python 3)"
   ]
  },
  {
   "cell_type": "markdown",
   "metadata": {},
   "source": [
    "## Python and pandas short test  (respect the names of functions and variables as it helps you to test)"
   ]
  },
  {
   "cell_type": "markdown",
   "metadata": {},
   "source": [
    "Ex 1. Create a function named `fun_a` that will transform a string of words separated by ':' into a Python list"
   ]
  },
  {
   "cell_type": "code",
   "execution_count": 25,
   "metadata": {},
   "outputs": [
    {
     "data": {
      "text/plain": [
       "['a', 'b']"
      ]
     },
     "execution_count": 25,
     "metadata": {},
     "output_type": "execute_result"
    }
   ],
   "source": [
    "def fun_a(x):\n",
    "    a=[]\n",
    "    for i in x.split(\":\"):\n",
    "        a.append(i)\n",
    "    \n",
    "    return(a)\n",
    "\n",
    "fun_a(\"a:b\")"
   ]
  },
  {
   "cell_type": "code",
   "execution_count": 26,
   "metadata": {},
   "outputs": [],
   "source": [
    "### DO NOT CHANGE \n",
    "### EXECUTE , IF ERRORS CORRECT YOUR SOLUTION\n",
    "assert(fun_a('a:b')[0]=='a')"
   ]
  },
  {
   "cell_type": "markdown",
   "metadata": {},
   "source": [
    "Ex 2. Create a function `fun_b` that will take a numeric list as an argument and output the product of the list and of its copy in inverse order\n",
    "\n",
    "```\n",
    "fun_b([1,2,3]) == [3,4,3] # 1*3 , 2*2, 3*1\n",
    "```\n",
    "\n"
   ]
  },
  {
   "cell_type": "code",
   "execution_count": 27,
   "metadata": {},
   "outputs": [
    {
     "data": {
      "text/plain": [
       "[3, 4, 3]"
      ]
     },
     "execution_count": 27,
     "metadata": {},
     "output_type": "execute_result"
    }
   ],
   "source": [
    "def fun_b(x):\n",
    "    y=0\n",
    "    reversedX=list(reversed(x))\n",
    "    result=[]\n",
    "    \n",
    "    for i in x:\n",
    "        result.append(i*reversedX[y])\n",
    "        y=y+1\n",
    "    return(result)\n",
    "\n",
    "fun_b([1,2,3])"
   ]
  },
  {
   "cell_type": "code",
   "execution_count": 28,
   "metadata": {},
   "outputs": [],
   "source": [
    "### DO NOT CHANGE \n",
    "### EXECUTE , IF ERRORS CORRECT YOUR SOLUTION\n",
    "assert(fun_b([1,2,3]) == [3,4,3])"
   ]
  },
  {
   "cell_type": "markdown",
   "metadata": {},
   "source": [
    "Ex 3. Create a function `fun_c` that for an argument `dict` (with strings as keys and numbers as values) will replace its values by the keys and keys by the values. Duplicates should be concatenated."
   ]
  },
  {
   "cell_type": "code",
   "execution_count": 29,
   "metadata": {},
   "outputs": [
    {
     "data": {
      "text/plain": [
       "{20: 'IBN'}"
      ]
     },
     "execution_count": 29,
     "metadata": {},
     "output_type": "execute_result"
    }
   ],
   "source": [
    "def fun_c(x):\n",
    "    d={}\n",
    "    \n",
    "    for key, value in x.items():\n",
    "        d[value]=key\n",
    "        \n",
    "    return (d)\n",
    "fun_c({'IBN':20})"
   ]
  },
  {
   "cell_type": "code",
   "execution_count": 30,
   "metadata": {},
   "outputs": [],
   "source": [
    "### DO NOT CHANGE \n",
    "### EXECUTE , IF ERRORS CORRECT YOUR SOLUTION\n",
    "assert(fun_c({'a':1})[1]=='a')"
   ]
  },
  {
   "cell_type": "markdown",
   "metadata": {},
   "source": [
    "Ex 4. Create a text file named 'a.txt' containing the following text\n",
    "```\n",
    "aaa bbb ccc\n",
    "aaa aaa bbb\n",
    "bbb aaa ccc\n",
    "```\n",
    "Create a function `w_freq` to count the frequency of the words in this file, its output will be a `dict` object.\n"
   ]
  },
  {
   "cell_type": "code",
   "execution_count": 31,
   "metadata": {},
   "outputs": [
    {
     "data": {
      "text/plain": [
       "{'aaa': 4, 'bbb': 3, 'ccc': 2}"
      ]
     },
     "execution_count": 31,
     "metadata": {},
     "output_type": "execute_result"
    }
   ],
   "source": [
    "import re\n",
    "import string\n",
    "\n",
    "def w_freq(filename):\n",
    "    # YOUR CODE HERE + CORRECT THE RETURN STATEMENT\n",
    "    document_text = open(filename, 'r')\n",
    "    text_string = document_text.read()\n",
    "    match_pattern = re.findall(r'\\b[a-z]{3,15}\\b', text_string)\n",
    "    \n",
    "    frequency = {}\n",
    "    \n",
    "    for word in match_pattern:\n",
    "        count = frequency.get(word,0)\n",
    "        frequency[word] = count + 1\n",
    "    \n",
    "    frequency_list = frequency.keys()\n",
    "    \n",
    "    D={}\n",
    "    for word in match_pattern:\n",
    "        D[word] = frequency[word]\n",
    "        \n",
    "    #return({'ccc':2})\n",
    "    document_text.close()\n",
    "    return D\n",
    "\n",
    "\n",
    "\n",
    "\n",
    "\n",
    "w_freq('a.txt')\n",
    "\n",
    "\n"
   ]
  },
  {
   "cell_type": "code",
   "execution_count": 32,
   "metadata": {},
   "outputs": [],
   "source": [
    "### DO NOT CHANGE \n",
    "### EXECUTE , IF ERRORS CORRECT YOUR SOLUTION\n",
    "assert(w_freq('a.txt')[\"ccc\"]==2)"
   ]
  },
  {
   "cell_type": "markdown",
   "metadata": {},
   "source": [
    "Ex 5. Create a function `sum2` which will calculate a sum of two subsequent elements of a numeric list :\n",
    "```\n",
    "sum2([1,2,3,4 ]) == [3,5,7]\n",
    "```"
   ]
  },
  {
   "cell_type": "code",
   "execution_count": 33,
   "metadata": {},
   "outputs": [
    {
     "name": "stdout",
     "output_type": "stream",
     "text": [
      "[3, 5, 7]\n",
      "[5]\n",
      "[7]\n"
     ]
    }
   ],
   "source": [
    "def sum2(x):\n",
    "    result=[]\n",
    "    for i in range(1,len(x)):\n",
    "        \n",
    "        result.append(x[i-1]+x[i])\n",
    "    return result\n",
    "\n",
    "print(sum2([1,2,3,4]))\n",
    "print(sum2([2,3]))\n",
    "print(sum2([3,4]))"
   ]
  },
  {
   "cell_type": "code",
   "execution_count": 34,
   "metadata": {},
   "outputs": [],
   "source": [
    "assert(sum2([1,2,3,4 ]) == [3,5,7])"
   ]
  },
  {
   "cell_type": "markdown",
   "metadata": {},
   "source": [
    "Ex 6. Create a Pandas Series `rand_ser` of length 1000 with random numbers from 0 to 1 indexed by letters 'a','b', etc"
   ]
  },
  {
   "cell_type": "code",
   "execution_count": 35,
   "metadata": {},
   "outputs": [
    {
     "name": "stdout",
     "output_type": "stream",
     "text": [
      "a    1\n",
      "a    1\n",
      "b    1\n",
      "a    0\n",
      "b    0\n",
      "b    0\n",
      "a    1\n",
      "b    0\n",
      "a    1\n",
      "a    0\n",
      "b    0\n",
      "b    1\n",
      "b    0\n",
      "a    0\n",
      "a    1\n",
      "b    1\n",
      "b    0\n",
      "b    1\n",
      "b    1\n",
      "b    1\n",
      "a    0\n",
      "a    1\n",
      "a    1\n",
      "b    1\n",
      "a    0\n",
      "a    0\n",
      "b    1\n",
      "a    0\n",
      "a    1\n",
      "b    0\n",
      "    ..\n",
      "b    0\n",
      "b    1\n",
      "a    1\n",
      "b    0\n",
      "b    0\n",
      "b    1\n",
      "b    0\n",
      "a    0\n",
      "b    0\n",
      "a    0\n",
      "b    0\n",
      "a    1\n",
      "b    1\n",
      "b    0\n",
      "a    1\n",
      "a    0\n",
      "a    1\n",
      "b    0\n",
      "b    0\n",
      "a    0\n",
      "b    1\n",
      "b    1\n",
      "b    1\n",
      "a    0\n",
      "a    0\n",
      "a    0\n",
      "a    0\n",
      "a    0\n",
      "b    0\n",
      "a    1\n",
      "Length: 1000, dtype: int64\n"
     ]
    }
   ],
   "source": [
    "import pandas as pd\n",
    "import random\n",
    "length=0\n",
    "str=[]\n",
    "\n",
    "while length<1000:\n",
    "   str.append(random.choice(\"ab\"))\n",
    "   length=length+1\n",
    "\n",
    "#rand_ser = pd.Series([random.uniform(0, 1) for i in range (0,1000)],index=[char for char in str])\n",
    "rand_ser = pd.Series([random.randint(0, 1) for i in range (0,1000)],index=[char for char in str])\n",
    "print(rand_ser)"
   ]
  },
  {
   "cell_type": "code",
   "execution_count": 36,
   "metadata": {},
   "outputs": [
    {
     "ename": "ValueError",
     "evalue": "The truth value of a Series is ambiguous. Use a.empty, a.bool(), a.item(), a.any() or a.all().",
     "output_type": "error",
     "traceback": [
      "\u001b[1;31m---------------------------------------------------------------------------\u001b[0m",
      "\u001b[1;31mValueError\u001b[0m                                Traceback (most recent call last)",
      "\u001b[1;32m<ipython-input-36-ffe982e92a1a>\u001b[0m in \u001b[0;36m<module>\u001b[1;34m()\u001b[0m\n\u001b[0;32m      1\u001b[0m \u001b[1;31m### DO NOT CHANGE\u001b[0m\u001b[1;33m\u001b[0m\u001b[1;33m\u001b[0m\u001b[0m\n\u001b[0;32m      2\u001b[0m \u001b[1;31m### EXECUTE , IF ERRORS CORRECT YOUR SOLUTION\u001b[0m\u001b[1;33m\u001b[0m\u001b[1;33m\u001b[0m\u001b[0m\n\u001b[1;32m----> 3\u001b[1;33m \u001b[1;32massert\u001b[0m\u001b[1;33m(\u001b[0m\u001b[0mrand_ser\u001b[0m\u001b[1;33m[\u001b[0m\u001b[1;34m'a'\u001b[0m\u001b[1;33m]\u001b[0m\u001b[1;33m>=\u001b[0m\u001b[1;36m0.0\u001b[0m\u001b[1;33m)\u001b[0m\u001b[1;33m\u001b[0m\u001b[0m\n\u001b[0m",
      "\u001b[1;32mX:\\Herve\\Software\\Anaconda3\\lib\\site-packages\\pandas\\core\\generic.py\u001b[0m in \u001b[0;36m__nonzero__\u001b[1;34m(self)\u001b[0m\n\u001b[0;32m   1119\u001b[0m         raise ValueError(\"The truth value of a {0} is ambiguous. \"\n\u001b[0;32m   1120\u001b[0m                          \u001b[1;34m\"Use a.empty, a.bool(), a.item(), a.any() or a.all().\"\u001b[0m\u001b[1;33m\u001b[0m\u001b[0m\n\u001b[1;32m-> 1121\u001b[1;33m                          .format(self.__class__.__name__))\n\u001b[0m\u001b[0;32m   1122\u001b[0m \u001b[1;33m\u001b[0m\u001b[0m\n\u001b[0;32m   1123\u001b[0m     \u001b[0m__bool__\u001b[0m \u001b[1;33m=\u001b[0m \u001b[0m__nonzero__\u001b[0m\u001b[1;33m\u001b[0m\u001b[0m\n",
      "\u001b[1;31mValueError\u001b[0m: The truth value of a Series is ambiguous. Use a.empty, a.bool(), a.item(), a.any() or a.all()."
     ]
    }
   ],
   "source": [
    "### DO NOT CHANGE \n",
    "### EXECUTE , IF ERRORS CORRECT YOUR SOLUTION\n",
    "assert(rand_ser['a']>=0.0)"
   ]
  },
  {
   "cell_type": "markdown",
   "metadata": {},
   "source": [
    "Ex 7. Create a function `str_sum`  which takes as argument a string and the pandas Series (such as `rand_ser`) and calculates the sum of all values in `rand_ser` corresponding to the letters in string. If letters repeat, then the values should also repeat\n",
    "\n",
    "For example, \n",
    "```\n",
    "str_sum('ab',pd.Series([1,2,3], index=[ 'a','a','b'] )) == (1 + 2) + 3 + (1 + 2)\n",
    "```"
   ]
  },
  {
   "cell_type": "code",
   "execution_count": 42,
   "metadata": {},
   "outputs": [
    {
     "data": {
      "text/plain": [
       "18"
      ]
     },
     "execution_count": 42,
     "metadata": {},
     "output_type": "execute_result"
    }
   ],
   "source": [
    "import pandas as pd\n",
    "import string\n",
    "\n",
    "\n",
    "def str_sum(s,x):\n",
    "    ## your code here and correct the return\n",
    "    D=0\n",
    "    for ValueString in s:\n",
    "        #print (ValueString)\n",
    "        #print(x[ValueString].sum())\n",
    "        D=D+x[ValueString].sum()*x[ValueString].size\n",
    "        #print(\"number of {} = {}\".format(ValueString,x[ValueString].size))\n",
    "        #print(\"end loop\")\n",
    "        #print(x.where[\"index\"]==ValueString].sum\n",
    "    \n",
    "    return D\n",
    "\n",
    "\n",
    "str_sum('ab',pd.Series([1,2,3,3],index=['a','b','a','b']))\n",
    "#str_sum('ab',rand_ser)"
   ]
  },
  {
   "cell_type": "code",
   "execution_count": 43,
   "metadata": {},
   "outputs": [],
   "source": [
    "### DO NOT CHANGE \n",
    "### EXECUTE , IF ERRORS CORRECT YOUR SOLUTION\n",
    "assert(str_sum('ab',pd.Series([1,2,3], index=[ 'a','a','b'] )) == 9)"
   ]
  },
  {
   "cell_type": "markdown",
   "metadata": {},
   "source": [
    "Ex 8. Download the data on car fuel consumption from US Dept of Energy website https://www.fueleconomy.gov/feg/epadata/vehicles.csv.zip\n",
    "\n",
    "unzip and read it with pandas pd.read_csv (ignore the warnings)\n",
    "\n",
    "Create a function 'elect' that will take the file name argument and year as number (f.e. 2015) \n",
    "\n",
    "and it returns a tuple (min, max) containing `model`s of two electric cars with minimal and maximal `range` by year (to find electric cars look at 'fuelType' column, and select only Electric cars)"
   ]
  },
  {
   "cell_type": "code",
   "execution_count": 44,
   "metadata": {},
   "outputs": [
    {
     "name": "stderr",
     "output_type": "stream",
     "text": [
      "X:\\Herve\\Software\\Anaconda3\\lib\\site-packages\\IPython\\core\\interactiveshell.py:2856: DtypeWarning: Columns (71,73,74,76) have mixed types. Specify dtype option on import or set low_memory=False.\n",
      "  if self.run_code(code, result):\n"
     ]
    },
    {
     "data": {
      "text/html": [
       "<div>\n",
       "<style scoped>\n",
       "    .dataframe tbody tr th:only-of-type {\n",
       "        vertical-align: middle;\n",
       "    }\n",
       "\n",
       "    .dataframe tbody tr th {\n",
       "        vertical-align: top;\n",
       "    }\n",
       "\n",
       "    .dataframe thead th {\n",
       "        text-align: right;\n",
       "    }\n",
       "</style>\n",
       "<table border=\"1\" class=\"dataframe\">\n",
       "  <thead>\n",
       "    <tr style=\"text-align: right;\">\n",
       "      <th></th>\n",
       "      <th>year</th>\n",
       "      <th>range</th>\n",
       "      <th>make</th>\n",
       "      <th>model</th>\n",
       "    </tr>\n",
       "  </thead>\n",
       "  <tbody>\n",
       "    <tr>\n",
       "      <th>25607</th>\n",
       "      <td>2013</td>\n",
       "      <td>38</td>\n",
       "      <td>Scion</td>\n",
       "      <td>iQ EV</td>\n",
       "    </tr>\n",
       "    <tr>\n",
       "      <th>25674</th>\n",
       "      <td>2013</td>\n",
       "      <td>265</td>\n",
       "      <td>Tesla</td>\n",
       "      <td>Model S (85 kW-hr battery pack)</td>\n",
       "    </tr>\n",
       "  </tbody>\n",
       "</table>\n",
       "</div>"
      ],
      "text/plain": [
       "       year  range   make                            model\n",
       "25607  2013     38  Scion                            iQ EV\n",
       "25674  2013    265  Tesla  Model S (85 kW-hr battery pack)"
      ]
     },
     "execution_count": 44,
     "metadata": {},
     "output_type": "execute_result"
    }
   ],
   "source": [
    "import pandas as pd\n",
    "import numpy as np\n",
    "\n",
    "def elect(filename,year):\n",
    "    ## your code here and correct the line below\n",
    "    df = pd.read_csv(filename)\n",
    "    #df[(df['fuelType'] == 'electricity')]\n",
    "    df = df[(df['fuelType'] == 'Electricity') & (df['year'] == year)]\n",
    "   \n",
    "    minimun = df[['year','range','make','model']]\n",
    "    minimun1 = minimun['range'].min()\n",
    "    minimun = minimun[(minimun['range']== minimun1)]\n",
    "    \n",
    "    maximun = df[['year','range','make','model']]\n",
    "    maximun1 = maximun['range'].max()\n",
    "    maximun = maximun[(maximun['range']== maximun1)]\n",
    "    \n",
    "    #maximun = pd.concat(minimun, ignore_index=True)\n",
    "    return pd.concat([minimun, maximun])\n",
    "\n",
    "elect('vehicles.csv', 2013)\n"
   ]
  },
  {
   "cell_type": "markdown",
   "metadata": {},
   "source": [
    "Ex 9. With fuel economy data find the models of 5 top range cars every year, create a new data frame (named `top5`) limited to these models with columns as below\n",
    "```\n",
    "year\trange\tmake\t    model\t\t\t\n",
    "_____________________________________\n",
    "1998\t81\t    Honda\t    EV Plus\n",
    "1998\t72\t    Chevrolet\tS10 Electric\n",
    "...\n",
    "```"
   ]
  },
  {
   "cell_type": "code",
   "execution_count": 45,
   "metadata": {
    "scrolled": false
   },
   "outputs": [
    {
     "name": "stderr",
     "output_type": "stream",
     "text": [
      "X:\\Herve\\Software\\Anaconda3\\lib\\site-packages\\IPython\\core\\interactiveshell.py:2728: DtypeWarning: Columns (71,73,74,76) have mixed types. Specify dtype option on import or set low_memory=False.\n",
      "  interactivity=interactivity, compiler=compiler, result=result)\n"
     ]
    },
    {
     "name": "stdout",
     "output_type": "stream",
     "text": [
      "       year  range             make                                model\n",
      "23031  1998     81            Honda                              EV Plus\n",
      "23033  1998     72        Chevrolet                         S10 Electric\n",
      "23032  1998     33        Chevrolet                         S10 Electric\n",
      "23024  1999    105              GMC                                  EV1\n",
      "23026  1999     81            Honda                              EV Plus\n",
      "23029  1999     70            Dodge            Caravan/Grand Caravan 2WD\n",
      "23030  1999     70         Plymouth            Voyager/Grand Voyager 2WD\n",
      "23023  1999     55              GMC                                  EV1\n",
      "7138   2000     90           Nissan                             Altra EV\n",
      "7139   2000     88           Toyota                              RAV4 EV\n",
      "23022  2000     65             Ford                    Ranger Pickup 2WD\n",
      "23021  2000     50             Ford                    Ranger Pickup 2WD\n",
      "8143   2001     88           Toyota                              RAV4 EV\n",
      "23020  2001     50             Ford                    Ranger Pickup 2WD\n",
      "8146   2001     38             Ford               Explorer USPS Electric\n",
      "8147   2001     33           Nissan                           Hyper-Mini\n",
      "8144   2001     29             Ford                                Th!nk\n",
      "9212   2002     95           Toyota                              RAV4 EV\n",
      "9213   2002     38             Ford               Explorer USPS Electric\n",
      "10329  2003     95           Toyota                              RAV4 EV\n",
      "23034  2008    100             MINI                                MiniE\n",
      "24463  2011     94              BMW                             Active E\n",
      "23035  2011     73           Nissan                                 Leaf\n",
      "23131  2011     63            smart      fortwo electric drive cabriolet\n",
      "23132  2011     63            smart          fortwo electric drive coupe\n",
      "24775  2012    265            Tesla                              Model S\n",
      "25691  2012    122              BYD                                   e6\n",
      "25608  2012    103           Toyota                              RAV4 EV\n",
      "24464  2012     88  CODA Automotive                                 CODA\n",
      "24465  2012     76             Ford                       Focus Electric\n",
      "25674  2013    265            Tesla      Model S (85 kW-hr battery pack)\n",
      "25673  2013    208            Tesla      Model S (60 kW-hr battery pack)\n",
      "25945  2013    139            Tesla      Model S (40 kW-hr battery pack)\n",
      "27305  2013    127              BYD                                   e6\n",
      "25706  2013    103           Toyota                              RAV4 EV\n",
      "27211  2014    265            Tesla      Model S (85 kW-hr battery pack)\n",
      "28556  2014    242            Tesla  Model S AWD (85 kW-hr battery pack)\n",
      "27212  2014    208            Tesla      Model S (60 kW-hr battery pack)\n",
      "27303  2014    127              BYD                                   e6\n",
      "26834  2014    103           Toyota                              RAV4 EV\n",
      "28572  2015    270            Tesla                    Model S AWD - 85D\n",
      "29419  2015    270            Tesla                    Model S AWD - 90D\n",
      "28541  2015    265            Tesla      Model S (85 kW-hr battery pack)\n",
      "29910  2015    265            Tesla      Model S (90 kW-hr battery pack)\n",
      "28571  2015    253            Tesla                   Model S AWD - P85D\n",
      "30947  2016    315            Tesla                  Model S AWD - P100D\n",
      "29915  2016    294            Tesla                    Model S AWD - 90D\n",
      "31311  2016    289            Tesla                  Model X AWD - P100D\n",
      "29917  2016    270            Tesla                   Model S AWD - P90D\n",
      "29913  2016    270            Tesla                    Model S AWD - 85D\n",
      "31466  2017    335            Tesla                   Model S AWD - 100D\n",
      "31338  2017    315            Tesla                  Model S AWD - P100D\n",
      "32718  2017    310            Tesla                   Model 3 Long Range\n",
      "32788  2017    295            Tesla                   Model X AWD - 100D\n",
      "31386  2017    294            Tesla                    Model S AWD - 90D\n",
      "32796  2018    335            Tesla                         Model S 100D\n",
      "32798  2018    315            Tesla                        Model S P100D\n",
      "32793  2018    310            Tesla                   Model 3 Long Range\n",
      "32800  2018    295            Tesla                         Model X 100D\n",
      "32801  2018    289            Tesla                        Model X P100D\n"
     ]
    }
   ],
   "source": [
    "import pandas as pd\n",
    "import numpy as np\n",
    "\n",
    "df = pd.read_csv('vehicles.csv')\n",
    "df = df[['year','range','make','model','fuelType']]\n",
    "\n",
    "year = df[['year']].drop_duplicates()\n",
    "\n",
    "top5 =  pd.DataFrame({})\n",
    "\n",
    "for index, row in year.iterrows():\n",
    "   \n",
    "   a = df[(df['fuelType'] == 'Electricity') & (df['year'] == row['year'])]\n",
    "   a = a[['year','range','make','model']]\n",
    "   a = a.sort_values(by=['range'],ascending=False).head(5)\n",
    "   \n",
    "   top5 = pd.concat([top5,a])\n",
    "\n",
    "print(top5)\n",
    "\n",
    "   \n",
    "#top5 = df.groupby('year','range').head(5)\n",
    "#top5\n",
    "\n",
    "#top5 = pd.DataFrame()"
   ]
  },
  {
   "cell_type": "markdown",
   "metadata": {},
   "source": [
    "Ex 10. Transform the previous data frame to the following form (call new data frame `top5t`)\n",
    "\n",
    "```\n",
    "year\tmake_model1\t    make_model2            make_model3  ...\n",
    "___________________________________________________________ ...\n",
    "1998\tHonda EV Plus   Chevrolet S10 Electric ...\n",
    "1999    Company Model   Company Model          ...\n",
    "...\n",
    "```"
   ]
  },
  {
   "cell_type": "code",
   "execution_count": 47,
   "metadata": {},
   "outputs": [
    {
     "name": "stdout",
     "output_type": "stream",
     "text": [
      "       year                            make_model1  \\\n",
      "23031  1998                          Honda EV Plus   \n",
      "23024  1999                                GMC EV1   \n",
      "7138   2000                        Nissan Altra EV   \n",
      "8143   2001                         Toyota RAV4 EV   \n",
      "9212   2002                         Toyota RAV4 EV   \n",
      "10329  2003                         Toyota RAV4 EV   \n",
      "23034  2008                             MINI MiniE   \n",
      "24463  2011                           BMW Active E   \n",
      "24775  2012                          Tesla Model S   \n",
      "25674  2013  Tesla Model S (85 kW-hr battery pack)   \n",
      "27211  2014  Tesla Model S (85 kW-hr battery pack)   \n",
      "28572  2015                Tesla Model S AWD - 85D   \n",
      "30947  2016              Tesla Model S AWD - P100D   \n",
      "31466  2017               Tesla Model S AWD - 100D   \n",
      "32796  2018                     Tesla Model S 100D   \n",
      "\n",
      "                                     make_model2  \\\n",
      "23031                     Chevrolet S10 Electric   \n",
      "23024                              Honda EV Plus   \n",
      "7138                              Toyota RAV4 EV   \n",
      "8143                      Ford Ranger Pickup 2WD   \n",
      "9212                 Ford Explorer USPS Electric   \n",
      "10329                                        NaN   \n",
      "23034                                        NaN   \n",
      "24463                                Nissan Leaf   \n",
      "24775                                     BYD e6   \n",
      "25674      Tesla Model S (60 kW-hr battery pack)   \n",
      "27211  Tesla Model S AWD (85 kW-hr battery pack)   \n",
      "28572                    Tesla Model S AWD - 90D   \n",
      "30947                    Tesla Model S AWD - 90D   \n",
      "31466                  Tesla Model S AWD - P100D   \n",
      "32796                        Tesla Model S P100D   \n",
      "\n",
      "                                 make_model3  \\\n",
      "23031                 Chevrolet S10 Electric   \n",
      "23024        Dodge Caravan/Grand Caravan 2WD   \n",
      "7138                  Ford Ranger Pickup 2WD   \n",
      "8143             Ford Explorer USPS Electric   \n",
      "9212                                     NaN   \n",
      "10329                                    NaN   \n",
      "23034                                    NaN   \n",
      "24463  smart fortwo electric drive cabriolet   \n",
      "24775                         Toyota RAV4 EV   \n",
      "25674  Tesla Model S (40 kW-hr battery pack)   \n",
      "27211  Tesla Model S (60 kW-hr battery pack)   \n",
      "28572  Tesla Model S (85 kW-hr battery pack)   \n",
      "30947              Tesla Model X AWD - P100D   \n",
      "31466               Tesla Model 3 Long Range   \n",
      "32796               Tesla Model 3 Long Range   \n",
      "\n",
      "                                 make_model4               make_model5  \n",
      "23031                                    NaN                       NaN  \n",
      "23024     Plymouth Voyager/Grand Voyager 2WD                   GMC EV1  \n",
      "7138                  Ford Ranger Pickup 2WD                       NaN  \n",
      "8143                       Nissan Hyper-Mini                Ford Th!nk  \n",
      "9212                                     NaN                       NaN  \n",
      "10329                                    NaN                       NaN  \n",
      "23034                                    NaN                       NaN  \n",
      "24463      smart fortwo electric drive coupe                       NaN  \n",
      "24775                   CODA Automotive CODA       Ford Focus Electric  \n",
      "25674                                 BYD e6            Toyota RAV4 EV  \n",
      "27211                                 BYD e6            Toyota RAV4 EV  \n",
      "28572  Tesla Model S (90 kW-hr battery pack)  Tesla Model S AWD - P85D  \n",
      "30947               Tesla Model S AWD - P90D   Tesla Model S AWD - 85D  \n",
      "31466               Tesla Model X AWD - 100D   Tesla Model S AWD - 90D  \n",
      "32796                     Tesla Model X 100D       Tesla Model X P100D  \n"
     ]
    }
   ],
   "source": [
    "#YOUR CODE AND CORRECTIONS\n",
    "#print(top5)\n",
    "def columnGet(x):\n",
    "    if (x == 2):\n",
    "        return \"make_model1\"\n",
    "    if (x == 3):\n",
    "        return \"make_model2\"\n",
    "    if (x == 4):\n",
    "        return \"make_model3\"\n",
    "    if (x == 5):\n",
    "        return \"make_model4\"\n",
    "    if (x == 6):\n",
    "        return \"make_model5\"\n",
    "    return \"make_model2\"\n",
    "\n",
    "drop =  top5[['year']].drop_duplicates()\n",
    "\n",
    "top5t = pd.DataFrame(columns=['year','make_model1','make_model2','make_model3','make_model4','make_model5'])\n",
    "for index1,row1 in drop.iterrows():\n",
    "    counter=1\n",
    "\n",
    "    df= pd.DataFrame({})\n",
    "\n",
    "    top5t.loc[index1,'year']=row1['year']\n",
    "    for index2, row2 in top5[(top5['year']== row1['year'])].iterrows():\n",
    "        counter = counter + 1\n",
    "        make_model = (row2['make'] + \" \" + row2['model'])\n",
    "        top5t.loc[index1,columnGet(counter)]=make_model\n",
    "        \n",
    "        #top5t.loc[index1] = \n",
    "        #print(make_model)\n",
    "    #print (make_model)\n",
    "    #for x in range(6 - counter,8):\n",
    "        #make_model.append('NaN')\n",
    "    #df = pd.DataFrame(np.array(make_model).reshape(1,6), columns = list(['year','make_model1','make_model2','make_model3','make_model4','make_model5']))\n",
    "    #top5t= pd.concat([make_model,top5t])\n",
    "    #for index,row in make_model.iterrows():\n",
    "        #print(row)\n",
    "        #print(row['year'])\n",
    "        #for index2, make_model in top5.iterrows():\n",
    "        #    b = pd.append\n",
    "        \n",
    "        \n",
    "    \n",
    "print(top5t)\n",
    "\n",
    "\n"
   ]
  },
  {
   "cell_type": "code",
   "execution_count": null,
   "metadata": {},
   "outputs": [],
   "source": []
  },
  {
   "cell_type": "code",
   "execution_count": null,
   "metadata": {},
   "outputs": [],
   "source": []
  }
 ],
 "metadata": {
  "kernelspec": {
   "display_name": "Python 3",
   "language": "python",
   "name": "python3"
  },
  "language_info": {
   "codemirror_mode": {
    "name": "ipython",
    "version": 3
   },
   "file_extension": ".py",
   "mimetype": "text/x-python",
   "name": "python",
   "nbconvert_exporter": "python",
   "pygments_lexer": "ipython3",
   "version": "3.6.4"
  }
 },
 "nbformat": 4,
 "nbformat_minor": 2
}
